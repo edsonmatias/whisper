{
 "cells": [
  {
   "cell_type": "markdown",
   "id": "c4358e98-6ac1-47f0-b044-f9c7dbee3034",
   "metadata": {},
   "source": [
    "# Usando Whisper para transcrever vídeo"
   ]
  },
  {
   "cell_type": "markdown",
   "id": "abd103fc-38b7-4a3e-8838-8648c82e37b2",
   "metadata": {},
   "source": [
    "### A ideia  é gerar através do Whisper uma legenda para um vídeo usando o modelo para transcrever o aúdio e logo após fazer a tradução e criar uma legenda (.srt) para o vídeo."
   ]
  },
  {
   "cell_type": "markdown",
   "id": "697d2dd7-e7f8-4243-902a-ddaada159140",
   "metadata": {},
   "source": [
    "Instalando as bibliotecas necessárias"
   ]
  },
  {
   "cell_type": "code",
   "execution_count": null,
   "id": "c5e84329-6caa-441b-a955-fb47b984355d",
   "metadata": {},
   "outputs": [],
   "source": [
    "!pip install openai-whisper moviepy srt googletrans==4.0.0-rc1 pysrt"
   ]
  },
  {
   "cell_type": "markdown",
   "id": "379ebadc-563b-4a13-890b-2c49038f14b8",
   "metadata": {},
   "source": [
    "Importando bibliotecas e funções"
   ]
  },
  {
   "cell_type": "code",
   "execution_count": 10,
   "id": "e3fbcdc7-e754-4c60-97e2-0ffafdd2ea26",
   "metadata": {},
   "outputs": [],
   "source": [
    "import whisper\n",
    "import os\n",
    "from googletrans import Translator\n",
    "import srt\n",
    "from moviepy.editor import VideoFileClip, CompositeVideoClip, TextClip\n",
    "from datetime import timedelta\n",
    "from moviepy.video.tools.subtitles import SubtitlesClip\n",
    "import pysrt"
   ]
  },
  {
   "cell_type": "markdown",
   "id": "4508d09c-1ff7-44ad-b4b7-d7ecb897da9c",
   "metadata": {},
   "source": [
    "É necessário instalar o ffmpeg como pré-requisito pra utilizar o modelo whisper, consultar: https://phoenixnap.com/kb/ffmpeg-windows"
   ]
  },
  {
   "cell_type": "code",
   "execution_count": 11,
   "id": "7b721baa-b712-40cf-bb5b-ca5bc0d4bca7",
   "metadata": {
    "scrolled": true
   },
   "outputs": [],
   "source": [
    "os.environ[\"PATH\"] += os.pathsep + \"C:/ffmpeg/bin\""
   ]
  },
  {
   "cell_type": "markdown",
   "id": "43bc12c2-f399-4937-9157-cac79516b597",
   "metadata": {},
   "source": [
    "Função para converter segundos em formato timedelta e posteriormente usar para gerar os times da legenda"
   ]
  },
  {
   "cell_type": "code",
   "execution_count": 12,
   "id": "d5cdcbd9-da57-41ed-bebc-e3d646b14397",
   "metadata": {},
   "outputs": [],
   "source": [
    "def seconds_to_timedelta(seconds):\n",
    "    return timedelta(seconds=int(seconds), milliseconds=int((seconds - int(seconds)) * 1000))"
   ]
  },
  {
   "cell_type": "markdown",
   "id": "9f157e66-8d73-4c5a-9090-2cc99fae27db",
   "metadata": {},
   "source": [
    "Extraindo áudio do vídeo com o moviepy para ser usado na transcrição"
   ]
  },
  {
   "cell_type": "code",
   "execution_count": 13,
   "id": "e23d7183-2855-4a8c-b8fe-33e9c600062b",
   "metadata": {},
   "outputs": [],
   "source": [
    "audio_path = \"audio.mp3\""
   ]
  },
  {
   "cell_type": "code",
   "execution_count": 14,
   "id": "9b8d0e8d-5b34-4033-bf67-3686aa64a8e4",
   "metadata": {},
   "outputs": [
    {
     "name": "stdout",
     "output_type": "stream",
     "text": [
      "MoviePy - Writing audio in audio.mp3\n"
     ]
    },
    {
     "name": "stderr",
     "output_type": "stream",
     "text": [
      "                                                                                                                       "
     ]
    },
    {
     "name": "stdout",
     "output_type": "stream",
     "text": [
      "MoviePy - Done.\n"
     ]
    },
    {
     "name": "stderr",
     "output_type": "stream",
     "text": [
      "\r"
     ]
    }
   ],
   "source": [
    "video_clip = VideoFileClip(\"linear_regression.mp4\")\n",
    "video_clip.audio.write_audiofile(audio_path)"
   ]
  },
  {
   "cell_type": "markdown",
   "id": "088cc266-33f9-48bd-9d36-7c0c6f17fba1",
   "metadata": {},
   "source": [
    "Carrega o modelo Whisper"
   ]
  },
  {
   "cell_type": "code",
   "execution_count": 15,
   "id": "13518d65-0bdc-41cf-8826-83c768d8de0d",
   "metadata": {},
   "outputs": [],
   "source": [
    "model = whisper.load_model(\"base\")\n"
   ]
  },
  {
   "cell_type": "markdown",
   "id": "6cacc5ba-01f5-4e7b-adf8-df9f763d3cf3",
   "metadata": {},
   "source": [
    "Faz a trancrição do aúdio"
   ]
  },
  {
   "cell_type": "code",
   "execution_count": 16,
   "id": "8fbcf665-73f0-42a7-a57a-6938540454b7",
   "metadata": {},
   "outputs": [],
   "source": [
    "result = model.transcribe(audio_path, language=\"en\")"
   ]
  },
  {
   "cell_type": "markdown",
   "id": "805b1e23-86d8-456e-b954-3c069cc9c111",
   "metadata": {},
   "source": [
    "Processa a transcrição para traduzir e gerar legenda"
   ]
  },
  {
   "cell_type": "code",
   "execution_count": 18,
   "id": "26419c85-6a3d-496a-bcaf-ec429b17f4f9",
   "metadata": {},
   "outputs": [],
   "source": [
    "# Inicializar o tradutor do googletrans\n",
    "translator = Translator()\n",
    "\n",
    "# Passo 3: Processar a transcrição para gerar legendas\n",
    "subtitles = []\n",
    "for i, segment in enumerate(result['segments']):\n",
    "    start_time = seconds_to_timedelta(segment['start'])\n",
    "    end_time = seconds_to_timedelta(segment['end'])\n",
    "    # Traduzir a transcrição para o português\n",
    "    translated_text = translator.translate(segment['text'], src='en', dest='pt').text\n",
    "    subtitle = srt.Subtitle(index=i + 1, start=start_time, end=end_time, content=translated_text)\n",
    "    subtitles.append(subtitle)\n"
   ]
  },
  {
   "cell_type": "markdown",
   "id": "71f06a2a-aae3-4231-93d5-24eed9d1d5ce",
   "metadata": {},
   "source": [
    "Cria uma legenda com o formato .str"
   ]
  },
  {
   "cell_type": "code",
   "execution_count": 20,
   "id": "baad0bfd-9e9c-442c-9764-233007cfa63a",
   "metadata": {},
   "outputs": [],
   "source": [
    "with open(\"linear_regression.srt\", \"w\", encoding=\"utf-8\") as f:\n",
    "    f.write(srt.compose(subtitles))"
   ]
  }
 ],
 "metadata": {
  "kernelspec": {
   "display_name": "Python 3 (ipykernel)",
   "language": "python",
   "name": "python3"
  },
  "language_info": {
   "codemirror_mode": {
    "name": "ipython",
    "version": 3
   },
   "file_extension": ".py",
   "mimetype": "text/x-python",
   "name": "python",
   "nbconvert_exporter": "python",
   "pygments_lexer": "ipython3",
   "version": "3.11.8"
  }
 },
 "nbformat": 4,
 "nbformat_minor": 5
}
